{
 "cells": [
  {
   "cell_type": "code",
   "execution_count": 1,
   "metadata": {},
   "outputs": [],
   "source": [
    "import pandas as pd"
   ]
  },
  {
   "cell_type": "code",
   "execution_count": 3,
   "metadata": {},
   "outputs": [],
   "source": [
    "df = pd.read_json('nobel_winners_biopic.json')"
   ]
  },
  {
   "cell_type": "code",
   "execution_count": 4,
   "metadata": {},
   "outputs": [
    {
     "ename": "AttributeError",
     "evalue": "'DataFrame' object has no attribute 'colums'",
     "output_type": "error",
     "traceback": [
      "\u001b[0;31m---------------------------------------------------------------------------\u001b[0m",
      "\u001b[0;31mAttributeError\u001b[0m                            Traceback (most recent call last)",
      "\u001b[0;32m<ipython-input-4-9962f18f67b6>\u001b[0m in \u001b[0;36m<module>\u001b[0;34m\u001b[0m\n\u001b[0;32m----> 1\u001b[0;31m \u001b[0mdf\u001b[0m\u001b[0;34m.\u001b[0m\u001b[0mcolums\u001b[0m\u001b[0;34m\u001b[0m\u001b[0;34m\u001b[0m\u001b[0m\n\u001b[0m",
      "\u001b[0;32m/opt/anaconda3/lib/python3.8/site-packages/pandas/core/generic.py\u001b[0m in \u001b[0;36m__getattr__\u001b[0;34m(self, name)\u001b[0m\n\u001b[1;32m   5272\u001b[0m             \u001b[0;32mif\u001b[0m \u001b[0mself\u001b[0m\u001b[0;34m.\u001b[0m\u001b[0m_info_axis\u001b[0m\u001b[0;34m.\u001b[0m\u001b[0m_can_hold_identifiers_and_holds_name\u001b[0m\u001b[0;34m(\u001b[0m\u001b[0mname\u001b[0m\u001b[0;34m)\u001b[0m\u001b[0;34m:\u001b[0m\u001b[0;34m\u001b[0m\u001b[0;34m\u001b[0m\u001b[0m\n\u001b[1;32m   5273\u001b[0m                 \u001b[0;32mreturn\u001b[0m \u001b[0mself\u001b[0m\u001b[0;34m[\u001b[0m\u001b[0mname\u001b[0m\u001b[0;34m]\u001b[0m\u001b[0;34m\u001b[0m\u001b[0;34m\u001b[0m\u001b[0m\n\u001b[0;32m-> 5274\u001b[0;31m             \u001b[0;32mreturn\u001b[0m \u001b[0mobject\u001b[0m\u001b[0;34m.\u001b[0m\u001b[0m__getattribute__\u001b[0m\u001b[0;34m(\u001b[0m\u001b[0mself\u001b[0m\u001b[0;34m,\u001b[0m \u001b[0mname\u001b[0m\u001b[0;34m)\u001b[0m\u001b[0;34m\u001b[0m\u001b[0;34m\u001b[0m\u001b[0m\n\u001b[0m\u001b[1;32m   5275\u001b[0m \u001b[0;34m\u001b[0m\u001b[0m\n\u001b[1;32m   5276\u001b[0m     \u001b[0;32mdef\u001b[0m \u001b[0m__setattr__\u001b[0m\u001b[0;34m(\u001b[0m\u001b[0mself\u001b[0m\u001b[0;34m,\u001b[0m \u001b[0mname\u001b[0m\u001b[0;34m:\u001b[0m \u001b[0mstr\u001b[0m\u001b[0;34m,\u001b[0m \u001b[0mvalue\u001b[0m\u001b[0;34m)\u001b[0m \u001b[0;34m->\u001b[0m \u001b[0;32mNone\u001b[0m\u001b[0;34m:\u001b[0m\u001b[0;34m\u001b[0m\u001b[0;34m\u001b[0m\u001b[0m\n",
      "\u001b[0;31mAttributeError\u001b[0m: 'DataFrame' object has no attribute 'colums'"
     ]
    }
   ],
   "source": [
    "df.colums"
   ]
  },
  {
   "cell_type": "code",
   "execution_count": 5,
   "metadata": {},
   "outputs": [
    {
     "data": {
      "text/html": [
       "<div>\n",
       "<style scoped>\n",
       "    .dataframe tbody tr th:only-of-type {\n",
       "        vertical-align: middle;\n",
       "    }\n",
       "\n",
       "    .dataframe tbody tr th {\n",
       "        vertical-align: top;\n",
       "    }\n",
       "\n",
       "    .dataframe thead th {\n",
       "        text-align: right;\n",
       "    }\n",
       "</style>\n",
       "<table border=\"1\" class=\"dataframe\">\n",
       "  <thead>\n",
       "    <tr style=\"text-align: right;\">\n",
       "      <th></th>\n",
       "      <th>award_age</th>\n",
       "      <th>category</th>\n",
       "      <th>country</th>\n",
       "      <th>date_of_birth</th>\n",
       "      <th>date_of_death</th>\n",
       "      <th>gender</th>\n",
       "      <th>link</th>\n",
       "      <th>name</th>\n",
       "      <th>place_of_birth</th>\n",
       "      <th>place_of_death</th>\n",
       "      <th>text</th>\n",
       "      <th>year</th>\n",
       "      <th>bio_image</th>\n",
       "      <th>image_urls</th>\n",
       "      <th>mini_bio</th>\n",
       "    </tr>\n",
       "  </thead>\n",
       "  <tbody>\n",
       "    <tr>\n",
       "      <th>0</th>\n",
       "      <td>57</td>\n",
       "      <td>Physiology or Medicine</td>\n",
       "      <td>Argentina</td>\n",
       "      <td>-1332806400000</td>\n",
       "      <td>1.016928e+12</td>\n",
       "      <td>male</td>\n",
       "      <td>http://en.wikipedia.org/wiki/C%C3%A9sar_Milstein</td>\n",
       "      <td>César Milstein</td>\n",
       "      <td>Bahía Blanca ,  Argentina</td>\n",
       "      <td>Cambridge , England</td>\n",
       "      <td>César Milstein , Physiology or Medicine, 1984</td>\n",
       "      <td>1984</td>\n",
       "      <td>full/6bf65058d573e07b72231407842018afc98fd3ea.jpg</td>\n",
       "      <td>[http://upload.wikimedia.org/wikipedia/commons...</td>\n",
       "      <td>&lt;p&gt;&lt;b&gt;César Milstein&lt;/b&gt;, &lt;a href=\"http://en.w...</td>\n",
       "    </tr>\n",
       "    <tr>\n",
       "      <th>1</th>\n",
       "      <td>80</td>\n",
       "      <td>Peace</td>\n",
       "      <td>Belgium</td>\n",
       "      <td>-4431715200000</td>\n",
       "      <td>-1.806278e+12</td>\n",
       "      <td>male</td>\n",
       "      <td>http://en.wikipedia.org/wiki/Auguste_Marie_Fra...</td>\n",
       "      <td>Auguste Beernaert</td>\n",
       "      <td>Ostend ,  Netherlands  (now  Belgium )</td>\n",
       "      <td>Lucerne ,  Switzerland</td>\n",
       "      <td>Auguste Beernaert , Peace, 1909</td>\n",
       "      <td>1909</td>\n",
       "      <td>full/8372c9ed89a0af1eb3b6214d8efed1d0fc2f02b0.jpg</td>\n",
       "      <td>[http://upload.wikimedia.org/wikipedia/commons...</td>\n",
       "      <td>&lt;p&gt;&lt;b&gt;Auguste Marie François Beernaert&lt;/b&gt; (26...</td>\n",
       "    </tr>\n",
       "    <tr>\n",
       "      <th>2</th>\n",
       "      <td>49</td>\n",
       "      <td>Literature</td>\n",
       "      <td>Belgium</td>\n",
       "      <td>-3387398400000</td>\n",
       "      <td>-6.518880e+11</td>\n",
       "      <td>male</td>\n",
       "      <td>http://en.wikipedia.org/wiki/Maurice_Maeterlinck</td>\n",
       "      <td>Maurice Maeterlinck</td>\n",
       "      <td>Ghent ,  Belgium</td>\n",
       "      <td>Nice ,  France</td>\n",
       "      <td>Maurice Maeterlinck , Literature, 1911</td>\n",
       "      <td>1911</td>\n",
       "      <td>full/a845620c67d214ca29e6a89cf31062e58ed7f033.jpg</td>\n",
       "      <td>[http://upload.wikimedia.org/wikipedia/commons...</td>\n",
       "      <td>&lt;p&gt;&lt;b&gt;Maurice Polydore Marie Bernard Maeterlin...</td>\n",
       "    </tr>\n",
       "    <tr>\n",
       "      <th>3</th>\n",
       "      <td>59</td>\n",
       "      <td>Peace</td>\n",
       "      <td>Belgium</td>\n",
       "      <td>-3651004800000</td>\n",
       "      <td>-8.405856e+11</td>\n",
       "      <td>male</td>\n",
       "      <td>http://en.wikipedia.org/wiki/Henri_La_Fontaine</td>\n",
       "      <td>Henri La Fontaine</td>\n",
       "      <td>Brussels</td>\n",
       "      <td>Belgium</td>\n",
       "      <td>Henri La Fontaine , Peace, 1913</td>\n",
       "      <td>1913</td>\n",
       "      <td>None</td>\n",
       "      <td>[]</td>\n",
       "      <td>&lt;p&gt;&lt;b&gt;Henri La Fontaine&lt;/b&gt; (&lt;small&gt;French pro...</td>\n",
       "    </tr>\n",
       "    <tr>\n",
       "      <th>4</th>\n",
       "      <td>49</td>\n",
       "      <td>Physiology or Medicine</td>\n",
       "      <td>Belgium</td>\n",
       "      <td>-3141590400000</td>\n",
       "      <td>-2.757888e+11</td>\n",
       "      <td>male</td>\n",
       "      <td>http://en.wikipedia.org/wiki/Jules_Bordet</td>\n",
       "      <td>Jules Bordet</td>\n",
       "      <td>Soignies, Belgium</td>\n",
       "      <td>None</td>\n",
       "      <td>Jules Bordet , Physiology or Medicine, 1919</td>\n",
       "      <td>1919</td>\n",
       "      <td>full/9fde596f4a3568f03c7a4be7dc386222b5c94398.jpg</td>\n",
       "      <td>[http://upload.wikimedia.org/wikipedia/commons...</td>\n",
       "      <td>&lt;p&gt;&lt;b&gt;Jules Jean Baptiste Vincent Bordet&lt;/b&gt; (...</td>\n",
       "    </tr>\n",
       "  </tbody>\n",
       "</table>\n",
       "</div>"
      ],
      "text/plain": [
       "   award_age                category    country  date_of_birth  date_of_death  \\\n",
       "0         57  Physiology or Medicine  Argentina -1332806400000   1.016928e+12   \n",
       "1         80                   Peace    Belgium -4431715200000  -1.806278e+12   \n",
       "2         49              Literature    Belgium -3387398400000  -6.518880e+11   \n",
       "3         59                   Peace    Belgium -3651004800000  -8.405856e+11   \n",
       "4         49  Physiology or Medicine    Belgium -3141590400000  -2.757888e+11   \n",
       "\n",
       "  gender                                               link  \\\n",
       "0   male   http://en.wikipedia.org/wiki/C%C3%A9sar_Milstein   \n",
       "1   male  http://en.wikipedia.org/wiki/Auguste_Marie_Fra...   \n",
       "2   male   http://en.wikipedia.org/wiki/Maurice_Maeterlinck   \n",
       "3   male     http://en.wikipedia.org/wiki/Henri_La_Fontaine   \n",
       "4   male          http://en.wikipedia.org/wiki/Jules_Bordet   \n",
       "\n",
       "                  name                          place_of_birth  \\\n",
       "0       César Milstein               Bahía Blanca ,  Argentina   \n",
       "1    Auguste Beernaert  Ostend ,  Netherlands  (now  Belgium )   \n",
       "2  Maurice Maeterlinck                        Ghent ,  Belgium   \n",
       "3    Henri La Fontaine                                Brussels   \n",
       "4         Jules Bordet                       Soignies, Belgium   \n",
       "\n",
       "           place_of_death                                           text  \\\n",
       "0     Cambridge , England  César Milstein , Physiology or Medicine, 1984   \n",
       "1  Lucerne ,  Switzerland                Auguste Beernaert , Peace, 1909   \n",
       "2          Nice ,  France         Maurice Maeterlinck , Literature, 1911   \n",
       "3                 Belgium                Henri La Fontaine , Peace, 1913   \n",
       "4                    None    Jules Bordet , Physiology or Medicine, 1919   \n",
       "\n",
       "   year                                          bio_image  \\\n",
       "0  1984  full/6bf65058d573e07b72231407842018afc98fd3ea.jpg   \n",
       "1  1909  full/8372c9ed89a0af1eb3b6214d8efed1d0fc2f02b0.jpg   \n",
       "2  1911  full/a845620c67d214ca29e6a89cf31062e58ed7f033.jpg   \n",
       "3  1913                                               None   \n",
       "4  1919  full/9fde596f4a3568f03c7a4be7dc386222b5c94398.jpg   \n",
       "\n",
       "                                          image_urls  \\\n",
       "0  [http://upload.wikimedia.org/wikipedia/commons...   \n",
       "1  [http://upload.wikimedia.org/wikipedia/commons...   \n",
       "2  [http://upload.wikimedia.org/wikipedia/commons...   \n",
       "3                                                 []   \n",
       "4  [http://upload.wikimedia.org/wikipedia/commons...   \n",
       "\n",
       "                                            mini_bio  \n",
       "0  <p><b>César Milstein</b>, <a href=\"http://en.w...  \n",
       "1  <p><b>Auguste Marie François Beernaert</b> (26...  \n",
       "2  <p><b>Maurice Polydore Marie Bernard Maeterlin...  \n",
       "3  <p><b>Henri La Fontaine</b> (<small>French pro...  \n",
       "4  <p><b>Jules Jean Baptiste Vincent Bordet</b> (...  "
      ]
     },
     "execution_count": 5,
     "metadata": {},
     "output_type": "execute_result"
    }
   ],
   "source": [
    "df.head()"
   ]
  },
  {
   "cell_type": "code",
   "execution_count": 6,
   "metadata": {},
   "outputs": [
    {
     "data": {
      "text/plain": [
       "Index(['award_age', 'category', 'country', 'date_of_birth', 'date_of_death',\n",
       "       'gender', 'link', 'name', 'place_of_birth', 'place_of_death', 'text',\n",
       "       'year', 'bio_image', 'image_urls', 'mini_bio'],\n",
       "      dtype='object')"
      ]
     },
     "execution_count": 6,
     "metadata": {},
     "output_type": "execute_result"
    }
   ],
   "source": [
    " df.columns"
   ]
  },
  {
   "cell_type": "code",
   "execution_count": 7,
   "metadata": {},
   "outputs": [
    {
     "data": {
      "text/plain": [
       "RangeIndex(start=0, stop=858, step=1)"
      ]
     },
     "execution_count": 7,
     "metadata": {},
     "output_type": "execute_result"
    }
   ],
   "source": [
    "df.index"
   ]
  },
  {
   "cell_type": "code",
   "execution_count": 8,
   "metadata": {},
   "outputs": [],
   "source": [
    "df =df.set_index('name')"
   ]
  },
  {
   "cell_type": "code",
   "execution_count": 9,
   "metadata": {},
   "outputs": [
    {
     "data": {
      "text/plain": [
       "award_age                                                        42\n",
       "category                                                    Physics\n",
       "country                                                     Germany\n",
       "date_of_birth                                        -2865456000000\n",
       "date_of_death                                          -4.64141e+11\n",
       "gender                                                         male\n",
       "link                   http://en.wikipedia.org/wiki/Albert_Einstein\n",
       "place_of_birth             Ulm ,  Baden-Württemberg , German Empire\n",
       "place_of_death                         Princeton, New Jersey , U.S.\n",
       "text                                Albert Einstein , Physics, 1921\n",
       "year                                                           1921\n",
       "bio_image         full/6df0559667c792ccce208879e806ec8892ed4b53.jpg\n",
       "image_urls        [http://upload.wikimedia.org/wikipedia/commons...\n",
       "mini_bio          <p><b>Albert Einstein</b> (<span class=\"nowrap...\n",
       "Name: Albert Einstein, dtype: object"
      ]
     },
     "execution_count": 9,
     "metadata": {},
     "output_type": "execute_result"
    }
   ],
   "source": [
    "df.loc['Albert Einstein']"
   ]
  },
  {
   "cell_type": "code",
   "execution_count": 10,
   "metadata": {},
   "outputs": [
    {
     "data": {
      "text/plain": [
       "award_age                                                        49\n",
       "category                                                 Literature\n",
       "country                                                     Belgium\n",
       "date_of_birth                                        -3387398400000\n",
       "date_of_death                                          -6.51888e+11\n",
       "gender                                                         male\n",
       "link               http://en.wikipedia.org/wiki/Maurice_Maeterlinck\n",
       "place_of_birth                                     Ghent ,  Belgium\n",
       "place_of_death                                       Nice ,  France\n",
       "text                         Maurice Maeterlinck , Literature, 1911\n",
       "year                                                           1911\n",
       "bio_image         full/a845620c67d214ca29e6a89cf31062e58ed7f033.jpg\n",
       "image_urls        [http://upload.wikimedia.org/wikipedia/commons...\n",
       "mini_bio          <p><b>Maurice Polydore Marie Bernard Maeterlin...\n",
       "Name: Maurice Maeterlinck, dtype: object"
      ]
     },
     "execution_count": 10,
     "metadata": {},
     "output_type": "execute_result"
    }
   ],
   "source": [
    "df.iloc[2]"
   ]
  },
  {
   "cell_type": "code",
   "execution_count": null,
   "metadata": {},
   "outputs": [],
   "source": []
  }
 ],
 "metadata": {
  "kernelspec": {
   "display_name": "Python 3",
   "language": "python",
   "name": "python3"
  },
  "language_info": {
   "codemirror_mode": {
    "name": "ipython",
    "version": 3
   },
   "file_extension": ".py",
   "mimetype": "text/x-python",
   "name": "python",
   "nbconvert_exporter": "python",
   "pygments_lexer": "ipython3",
   "version": "3.8.3"
  }
 },
 "nbformat": 4,
 "nbformat_minor": 4
}
